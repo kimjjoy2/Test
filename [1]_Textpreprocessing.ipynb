{
  "nbformat": 4,
  "nbformat_minor": 0,
  "metadata": {
    "colab": {
      "name": "[1] Textpreprocessing.ipynb",
      "provenance": [],
      "collapsed_sections": [],
      "toc_visible": true,
      "include_colab_link": true
    },
    "kernelspec": {
      "name": "python3",
      "display_name": "Python 3"
    }
  },
  "cells": [
    {
      "cell_type": "markdown",
      "metadata": {
        "id": "view-in-github",
        "colab_type": "text"
      },
      "source": [
        "<a href=\"https://colab.research.google.com/github/kimjjoy2/Test/blob/master/%5B1%5D_Textpreprocessing.ipynb\" target=\"_parent\"><img src=\"https://colab.research.google.com/assets/colab-badge.svg\" alt=\"Open In Colab\"/></a>"
      ]
    },
    {
      "cell_type": "markdown",
      "metadata": {
        "id": "J9TOC7HKrcu-"
      },
      "source": [
        "# Text preprocessing\n",
        "<br>\n",
        "제작자: Park Chanjun (박찬준) <br>\n",
        "소속: Korea University Natural Language Processing & Artificial Intelligence Lab (고려대학교 자연언어처리&인공지능 연구실)<br>\n",
        "Email: bcj1210@naver.com<br>"
      ]
    },
    {
      "cell_type": "markdown",
      "metadata": {
        "id": "0qFdeQTFr8l2"
      },
      "source": [
        "## 전통적인 자연어처리 단계\n",
        "\n",
        "\n"
      ]
    },
    {
      "cell_type": "markdown",
      "metadata": {
        "id": "hhlrf7WWt6De"
      },
      "source": [
        "## 어절 분리\n",
        "어절은 영어에서 띄어쓰기 단위라고 생각하면 이해하기 쉽습니다."
      ]
    },
    {
      "cell_type": "code",
      "metadata": {
        "id": "hC3rSTSjuGoo",
        "outputId": "70b3c11e-1daa-4e90-8c6a-efb7cf33b164",
        "colab": {
          "base_uri": "https://localhost:8080/",
          "height": 68
        }
      },
      "source": [
        "import nltk\n",
        "nltk.download('punkt')\n",
        "\n",
        "sentences=\"My name is park hahahah's\"\n",
        "tokens=nltk.word_tokenize(sentences)\n",
        "print(tokens)"
      ],
      "execution_count": 16,
      "outputs": [
        {
          "output_type": "stream",
          "text": [
            "[nltk_data] Downloading package punkt to /root/nltk_data...\n",
            "[nltk_data]   Package punkt is already up-to-date!\n",
            "['My', 'name', 'is', 'park', 'hahahah', \"'s\"]\n"
          ],
          "name": "stdout"
        }
      ]
    },
    {
      "cell_type": "markdown",
      "metadata": {
        "id": "c8vEQ2kRuzEO"
      },
      "source": [
        "## 문장 분리\n",
        "NLTK로 문장 분리도 가능합니다."
      ]
    },
    {
      "cell_type": "code",
      "metadata": {
        "id": "KjACP6Ktuy0w",
        "outputId": "8c6a9260-36e4-4b7e-970e-f80e0fba5e74",
        "colab": {
          "base_uri": "https://localhost:8080/",
          "height": 68
        }
      },
      "source": [
        "import nltk\n",
        "nltk.download('punkt')\n",
        "\n",
        "sentences=\"My name is park. How old are you.\"\n",
        "sen=nltk.sent_tokenize(sentences)\n",
        "print(sen)"
      ],
      "execution_count": 18,
      "outputs": [
        {
          "output_type": "stream",
          "text": [
            "[nltk_data] Downloading package punkt to /root/nltk_data...\n",
            "[nltk_data]   Package punkt is already up-to-date!\n",
            "['My name is park.', 'How old are you.']\n"
          ],
          "name": "stdout"
        }
      ]
    },
    {
      "cell_type": "markdown",
      "metadata": {
        "id": "R3dtjkc_vEPK"
      },
      "source": [
        "##형태소\n",
        "뜻을 가진 가장 작은 말의 단위 입니다.\n",
        "\n",
        "\n",
        "입력으로 word_tokenize를 통해 토큰으로 나눈 Token 리스트를 넣어주어야 합니다.<br>\n",
        "출력은 형태소 품사태깅 된 결과가 나옵니다."
      ]
    },
    {
      "cell_type": "code",
      "metadata": {
        "id": "BlSkeHw2vQqJ",
        "outputId": "c9b1e7d5-1457-4630-c56a-f8475f32e4c3",
        "colab": {
          "base_uri": "https://localhost:8080/",
          "height": 122
        }
      },
      "source": [
        "import nltk\n",
        "nltk.download('averaged_perceptron_tagger')\n",
        "\n",
        "sentence=\"my name is jack and i am 22 years old and my major is natural language processing\"\n",
        "\n",
        "tokens=nltk.word_tokenize(sentence)\n",
        "tagged=nltk.pos_tag(tokens)\n",
        "\n",
        "print(tagged) "
      ],
      "execution_count": 19,
      "outputs": [
        {
          "output_type": "stream",
          "text": [
            "[nltk_data] Downloading package averaged_perceptron_tagger to\n",
            "[nltk_data]     /root/nltk_data...\n",
            "[nltk_data]   Package averaged_perceptron_tagger is already up-to-\n",
            "[nltk_data]       date!\n",
            "[('my', 'PRP$'), ('name', 'NN'), ('is', 'VBZ'), ('jack', 'NN'), ('and', 'CC'), ('i', 'NN'), ('am', 'VBP'), ('22', 'CD'), ('years', 'NNS'), ('old', 'JJ'), ('and', 'CC'), ('my', 'PRP$'), ('major', 'JJ'), ('is', 'VBZ'), ('natural', 'JJ'), ('language', 'NN'), ('processing', 'NN')]\n"
          ],
          "name": "stdout"
        }
      ]
    },
    {
      "cell_type": "markdown",
      "metadata": {
        "id": "b28W3K8Pvbct"
      },
      "source": [
        "##개체명 인식\n",
        "\n",
        "컴퓨터가 사람이름,장소,지역,조직체를 인식할 수 있을까요?\n",
        "\n",
        "즉 Tom lives in NewYork이라는 문장이 있을 때 Tom이 사람이고 NewYork이 장소다는 것을 컴퓨터가 알아차릴 수 있을까요?\n",
        "\n",
        "그것을 가능하게 하는 것이 바로 NER(Name Entity Recogniton)즉 개체명 인식입니다.\n",
        "\n",
        "####Named Entity (개체명) : 사람, 조직, 장소 이름 등 이름을 가진 개체\n",
        "\n",
        "####Name Entity Recognition (개체명 인식) : 텍스트에서 개체명을 인식하고, 그 유형을 알려줌\n",
        "<br>\n",
        "\n",
        "개체명인식을 진행하기 위해선 input 데이터로 형태소태깅 된 리스트가 들어와야 됩니다.\n",
        " \n",
        "즉 개체명인식을 진행하기 위해 먼저 nltk.word_tokenize를 진행하고 nltk.pos_tag를 진행한 후 이것을 input으로 넣어야 함을 알 수 있습니다."
      ]
    },
    {
      "cell_type": "code",
      "metadata": {
        "id": "hHoDfJu2v_po",
        "outputId": "ea2f1af7-f9e1-4cc2-8738-029fc4eab373",
        "colab": {
          "base_uri": "https://localhost:8080/",
          "height": 238
        }
      },
      "source": [
        "import nltk\n",
        "nltk.download('maxent_ne_chunker')\n",
        "nltk.download('words')\n",
        "\n",
        "sent=\"Mark is studying at Stanford University in California\"\n",
        "\n",
        "tokens=nltk.word_tokenize(sent)\n",
        "tagged=nltk.pos_tag(tokens)\n",
        "entities=nltk.chunk.ne_chunk(tagged)\n",
        "\n",
        "print(entities)\n"
      ],
      "execution_count": 27,
      "outputs": [
        {
          "output_type": "stream",
          "text": [
            "[nltk_data] Downloading package maxent_ne_chunker to\n",
            "[nltk_data]     /root/nltk_data...\n",
            "[nltk_data]   Package maxent_ne_chunker is already up-to-date!\n",
            "[nltk_data] Downloading package words to /root/nltk_data...\n",
            "[nltk_data]   Package words is already up-to-date!\n",
            "(S\n",
            "  (PERSON Mark/NNP)\n",
            "  is/VBZ\n",
            "  studying/VBG\n",
            "  at/IN\n",
            "  (ORGANIZATION Stanford/NNP University/NNP)\n",
            "  in/IN\n",
            "  (GPE California/NNP))\n"
          ],
          "name": "stdout"
        }
      ]
    },
    {
      "cell_type": "markdown",
      "metadata": {
        "id": "0c2wgVaxwV70"
      },
      "source": [
        "## Edit Distance\n",
        "\n",
        "NLTK를 통하여 Edit Distance에 대해서 살펴보려고 합니다.\n",
        "\n",
        "간단히 생각해 2개의 단어가 얼마나 다르냐를 숫자로 표현해주는 것이 Edit Distance입니다.\n",
        "\n",
        " \n",
        "\n",
        "예를 들어 CAT 과  HAT 두단어의 차이는 각 단어의 첫글자인 C와H입니다.\n",
        "\n",
        "즉 1개의 문자만이 차이가 나죠!!\n",
        "\n",
        "따라서 CAT과 HAT의 Edit Distance는 1 이되는 것 입니다.\n",
        "\n",
        "Edit Distance에는 3가지 연산이 있습니다.\n",
        "\n",
        "\n",
        "### Insertion\n",
        "### Deletion\n",
        "### Substitution\n",
        "\n",
        "​\n",
        "\n",
        "즉 삽입, 삭제, 교체 총 이렇게 3가지 연산이 존재합니다.\n"
      ]
    },
    {
      "cell_type": "code",
      "metadata": {
        "id": "vwtOuNCywx6z",
        "outputId": "52d4f4b6-2b9d-42e5-ca30-2172d71fcfb1",
        "colab": {
          "base_uri": "https://localhost:8080/",
          "height": 51
        }
      },
      "source": [
        "import nltk \n",
        "from nltk.metrics import edit_distance \n",
        "\n",
        "print(edit_distance(\"CAT\",\"HAT\"))\n",
        "print(edit_distance(\"hello\",\"hllllpo\"))\n"
      ],
      "execution_count": 30,
      "outputs": [
        {
          "output_type": "stream",
          "text": [
            "1\n",
            "3\n"
          ],
          "name": "stdout"
        }
      ]
    },
    {
      "cell_type": "markdown",
      "metadata": {
        "id": "NEBQcfqMwzk1"
      },
      "source": [
        "## Stemming\n",
        "stem이라는 영어단어 들어보셨나요?\n",
        "\n",
        "(식물의) 줄기라는 뜻을 가진 영어단어 인데요.언어학에서는 stem을 어간이라고 합니다.\n",
        "\n",
        "어간은 굴절하는 단어에서 변화하지 않는 부분을 의미합니다.\n",
        "\n",
        "###스태밍(Stemming)이란 어간추출을 의미합니다 !!\n",
        "\n",
        "쉽게 말해 형태가 변한 단어로부터 군더더기를 제거하고 그 단어의 원래 모습을 추출하는 것을 말합니다.\n",
        "\n",
        "예를 들어 going이라는 단어가 있다면 Stemming을 진행할시 go\n",
        "\n",
        "Computers라는 단어를 Stemming을 진행할 시 Comput 를 추출하는 과정을 Stemming이라고 합니다 .\n",
        "\n",
        "\n",
        "포터 스태밍 알고리즘(Porter Stemming Algorithm) 은 Stemming에서 가장 유명한 알고리즘입니다."
      ]
    },
    {
      "cell_type": "code",
      "metadata": {
        "id": "FRbW6Xv9xOzi",
        "outputId": "48bdb577-6e0f-440c-9fa1-799081a45ca8",
        "colab": {
          "base_uri": "https://localhost:8080/",
          "height": 51
        }
      },
      "source": [
        "import nltk \n",
        "from nltk.stem import PorterStemmer\n",
        "\n",
        "pst=PorterStemmer()\n",
        "\n",
        "print(pst.stem(\"computers\"))\n",
        "print(pst.stem(\"going\"))\n"
      ],
      "execution_count": 31,
      "outputs": [
        {
          "output_type": "stream",
          "text": [
            "comput\n",
            "go\n"
          ],
          "name": "stdout"
        }
      ]
    },
    {
      "cell_type": "markdown",
      "metadata": {
        "id": "WIc7CdfRxSYM"
      },
      "source": [
        "## Lemmatization\n",
        "\n",
        "Lemmatization이란 문장 속에서 다양한 형태로 활용된(inflected) 단어의 표제어(lemma)를 찾는 일을 뜻합니다. <br> \n",
        "여기서 말하는 표제어란 사전에서 단어의 뜻을 찾을 때 쓰는 기본형이라고 생각하면 됩니다.\n",
        "\n",
        "즉 Lemmatization은 단어의 원형을 추출해주는 녀석이라고 생각하면 이해하기 쉽습니다.\n",
        "\n",
        "\n",
        "예를들어 is를 Lemmatization하면 be가 되고 ate을 Lemmatization하면 eat이 됩니다."
      ]
    },
    {
      "cell_type": "code",
      "metadata": {
        "id": "PKxKMKpsxhJs",
        "outputId": "c2c2b575-f0b7-44c0-dad1-c6a8d9b691a8",
        "colab": {
          "base_uri": "https://localhost:8080/",
          "height": 102
        }
      },
      "source": [
        "from nltk.stem import WordNetLemmatizer\n",
        "import nltk\n",
        "nltk.download('wordnet')\n",
        "\n",
        "wlem=WordNetLemmatizer()\n",
        "\n",
        "print(wlem.lemmatize(\"ate\",pos='v'))\n",
        "print(wlem.lemmatize(\"is\",pos='v'))\n",
        "print(wlem.lemmatize(\"are\",pos='v'))"
      ],
      "execution_count": 32,
      "outputs": [
        {
          "output_type": "stream",
          "text": [
            "[nltk_data] Downloading package wordnet to /root/nltk_data...\n",
            "[nltk_data]   Package wordnet is already up-to-date!\n",
            "eat\n",
            "be\n",
            "be\n"
          ],
          "name": "stdout"
        }
      ]
    },
    {
      "cell_type": "markdown",
      "metadata": {
        "id": "V0TOQb8txnLH"
      },
      "source": [
        "## Stopword\n",
        "\n",
        "불용어는 인터넷 검색 시 검색 용어로 사용하지 않는 단어. 관사, 전치사, 조사, 접속사 등 검색 색인 단어로 의미가 없는 단어입니다.\n",
        "\n",
        "\n",
        "{'above', 'doing', 'too', 'can', 'd', 't', 'then', 'what', 'same', 'himself', 'but', 'with', 'on', 'when', 'so', 'isn', 'his', 'further', 'been', 'being', 'our', 'because', 'are', 'from', 'mustn', 'at', 'between', 'here', 'most', 'ours', 'again', 'shouldn', 'have', 'both', 'below', 'against', 'few', 'wasn', 'those', 'hadn', 'once', 'don', 'ain', 'for', 'under', 'o', 're', 'yourselves', 'them', 'themselves', 've', 'about', 'your', 'ourselves', 'who', 'after', 'or', 'he', 'over', 'this', 'how', 'myself', 'into', 'in', 'such', 'aren', 'hasn', 'before', 'whom', 'won', 's', 'were', 'only', 'herself', 'we', 'that', 'was', 'had', 'no', 'of', 'during', 'down', 'has', 'off', 'while', 'where', 'a', 'if', 'until', 'weren', 'be', 'having', 'theirs', 'doesn', 'will', 'to', 'just', 'her', 'ma', 'll', 'there', 'and', 'does', 'other', 'their', 'own', 'why', 'itself', 'its', 'each', 'by', 'not', 'she', 'some', 'him', 'very', 'm', 'should', 'now', 'couldn', 'yourself', 'these', 'as', 'didn', 'an', 'nor', 'is', 'yours', 'did', 'the', 'do', 'my', 'all', 'needn', 'y', 'which', 'up', 'shan', 'haven', 'through', 'me', 'out', 'mightn', 'wouldn', 'they', 'i', 'you', 'hers', 'it', 'more', 'any', 'am', 'than'}\n",
        "\n",
        " \n",
        "\n",
        "영어에 불용어의 종류로는 이렇게 많은 단어들이 있으며 대부분 검색 시 의미없는 단어들입니다."
      ]
    },
    {
      "cell_type": "code",
      "metadata": {
        "id": "p01BcNqUxuz0",
        "outputId": "4e6a4aa1-54d7-408c-ee4c-9d6259cfc0f0",
        "colab": {
          "base_uri": "https://localhost:8080/",
          "height": 88
        }
      },
      "source": [
        "import nltk\n",
        "from nltk.corpus import stopwords\n",
        "nltk.download('stopwords')\n",
        "\n",
        "stop=set(stopwords.words('english'))\n",
        "print(stop)"
      ],
      "execution_count": 35,
      "outputs": [
        {
          "output_type": "stream",
          "text": [
            "[nltk_data] Downloading package stopwords to /root/nltk_data...\n",
            "[nltk_data]   Package stopwords is already up-to-date!\n",
            "{\"isn't\", \"you're\", 'under', 'being', \"wasn't\", 'any', 'down', 'ma', 'are', \"mustn't\", \"you'd\", 'm', 'their', 'than', 'y', 'mightn', 'is', 'through', 'more', 'out', 'shan', 'what', 'between', 'again', 'few', 'during', 've', 'am', \"it's\", 'and', 'too', 'needn', 'yourselves', 'will', 'her', \"hasn't\", 'own', 'my', 'been', 'in', 'wasn', 'but', 'into', 're', 'this', 'for', \"should've\", 'they', 'only', 'should', 'was', 'you', \"that'll\", 'she', 'now', 'he', \"you've\", 'has', 'had', 'here', 'same', 'very', 'some', 'because', 'doesn', \"mightn't\", 'against', 'ours', \"you'll\", 'itself', 'so', 'hers', 'most', \"aren't\", 'did', 'which', 'at', 'haven', 'isn', 'shouldn', 'himself', 'mustn', 'as', 'or', 'whom', \"couldn't\", 'that', 'just', 's', \"won't\", 'after', 'on', 'by', 'theirs', 'until', \"don't\", 'once', 'doing', 'those', \"needn't\", 'a', 'each', 'how', 'while', 'it', 'above', 'over', 'about', 'further', 'below', 'them', 'do', 'don', 'we', 'couldn', 'll', 'an', 'themselves', 'there', 'd', 'yourself', \"hadn't\", 'does', 'both', 'why', 'wouldn', 'when', 'won', \"didn't\", 'herself', 'all', 'with', 'can', \"doesn't\", 'before', \"weren't\", 'up', 'of', 'the', 't', 'his', 'having', 'me', 'have', 'its', 'off', 'hadn', 'yours', 'from', 'these', 'didn', 'were', 'hasn', 'to', 'aren', 'o', 'him', 'be', 'where', 'not', \"shan't\", 'weren', \"wouldn't\", 'then', 'if', 'myself', \"shouldn't\", 'no', 'such', 'who', 'ourselves', 'nor', 'other', 'your', 'our', 'i', \"she's\", \"haven't\", 'ain'}\n"
          ],
          "name": "stdout"
        }
      ]
    },
    {
      "cell_type": "markdown",
      "metadata": {
        "id": "-TOCpR5Jx4Xt"
      },
      "source": [
        "## 문장이 주어졌을 때 불용어를 제외한 단어들만 추출하는 방법\n"
      ]
    },
    {
      "cell_type": "code",
      "metadata": {
        "id": "OPY5Sxdox6kF",
        "outputId": "ecd6f679-d37d-47f0-f9f5-ea00d08126d6",
        "colab": {
          "base_uri": "https://localhost:8080/",
          "height": 51
        }
      },
      "source": [
        "import nltk\n",
        "from nltk.corpus import stopwords\n",
        "\n",
        "\n",
        "stop=set(stopwords.words('english'))\n",
        "\n",
        "\n",
        "sen=\"I want to go to shopping and a I want to buy some of snack\"\n",
        "tokens=nltk.word_tokenize(sen)\n",
        "\n",
        "#clean_tokens=[tok for tok in tokens if len(tok.lower())>1 and (tok.lower() not in stop)]\n",
        "\n",
        "clean_tokens=[]\n",
        "for tok in tokens:\n",
        "  if len(tok.lower())>1 and (tok.lower() not in stop):\n",
        "    clean_tokens.append(tok)\n",
        "\n",
        "  \n",
        "print(\"불용어 포함: \",tokens) \n",
        "print(\"불용어 미포함: \",clean_tokens)  "
      ],
      "execution_count": 36,
      "outputs": [
        {
          "output_type": "stream",
          "text": [
            "불용어 포함:  ['I', 'want', 'to', 'go', 'to', 'shopping', 'and', 'a', 'I', 'want', 'to', 'buy', 'some', 'of', 'snack']\n",
            "불용어 미포함:  ['want', 'go', 'shopping', 'want', 'buy', 'snack']\n"
          ],
          "name": "stdout"
        }
      ]
    },
    {
      "cell_type": "markdown",
      "metadata": {
        "id": "Mi8iE-vtyAUw"
      },
      "source": [
        "## 특정한 품사만 추출해보기"
      ]
    },
    {
      "cell_type": "code",
      "metadata": {
        "id": "PUJXau5HyDiy",
        "outputId": "7020fde1-c5ff-4a4e-de21-636f6691622e",
        "colab": {
          "base_uri": "https://localhost:8080/",
          "height": 190
        }
      },
      "source": [
        "import nltk\n",
        "nltk.download('punkt')\n",
        "nltk.download('averaged_perceptron_tagger')\n",
        "\n",
        "sen=\"Barack Hussein Obama II is an American politician who served as the 44th President of the United States from 2009 to 2017.\"\n",
        "\n",
        "tokens=nltk.word_tokenize(sen)\n",
        "tagged=nltk.pos_tag(tokens)\n",
        "\n",
        "#명사추출\n",
        "#allnoun = [word for word, pos in tagged if pos in ['NN', 'NNP'] ]\n",
        "\n",
        "allnoun=[]\n",
        "for word, pos in tagged:\n",
        "  if pos in ['NN', 'NNP']:\n",
        "    allnoun.append(word)\n",
        "    \n",
        "print(\"형태소 분석 결과: \",tagged)\n",
        "print(\"명사만 추출: \", allnoun)\n",
        "\n",
        "#동사 추출\n",
        "#allverb = [word for word, pos in tagged if pos in ['VBZ','VBD'] ]\n",
        "\n",
        "allverb=[]\n",
        "for word, pos in tagged:\n",
        "  if pos in ['VBZ','VBD']:\n",
        "    allverb.append(word)\n",
        "\n",
        "print(\"동사만 추출\",allverb)"
      ],
      "execution_count": 38,
      "outputs": [
        {
          "output_type": "stream",
          "text": [
            "[nltk_data] Downloading package punkt to /root/nltk_data...\n",
            "[nltk_data]   Package punkt is already up-to-date!\n",
            "[nltk_data] Downloading package averaged_perceptron_tagger to\n",
            "[nltk_data]     /root/nltk_data...\n",
            "[nltk_data]   Package averaged_perceptron_tagger is already up-to-\n",
            "[nltk_data]       date!\n",
            "형태소 분석 결과:  [('Barack', 'NNP'), ('Hussein', 'NNP'), ('Obama', 'NNP'), ('II', 'NNP'), ('is', 'VBZ'), ('an', 'DT'), ('American', 'JJ'), ('politician', 'NN'), ('who', 'WP'), ('served', 'VBD'), ('as', 'IN'), ('the', 'DT'), ('44th', 'CD'), ('President', 'NNP'), ('of', 'IN'), ('the', 'DT'), ('United', 'NNP'), ('States', 'NNPS'), ('from', 'IN'), ('2009', 'CD'), ('to', 'TO'), ('2017', 'CD'), ('.', '.')]\n",
            "명사만 추출:  ['Barack', 'Hussein', 'Obama', 'II', 'politician', 'President', 'United']\n",
            "동사만 추출 ['is', 'served']\n"
          ],
          "name": "stdout"
        }
      ]
    },
    {
      "cell_type": "markdown",
      "metadata": {
        "id": "fD9YgojCyMWQ"
      },
      "source": [
        "## HTML 크롤링 후 단어 빈도수 구해보기"
      ]
    },
    {
      "cell_type": "code",
      "metadata": {
        "id": "kCDsEi0gyQE2",
        "outputId": "47faa46e-1375-494e-ffcb-4721a13f5641",
        "colab": {
          "base_uri": "https://localhost:8080/",
          "height": 380
        }
      },
      "source": [
        "import nltk\n",
        "import urllib\n",
        "import re\n",
        "from bs4 import BeautifulSoup\n",
        "from nltk.corpus import stopwords  \n",
        "import matplotlib\n",
        "import matplotlib.pyplot as plt\n",
        "import random\n",
        "\n",
        "#nltk.download('averaged_perceptron_tagger')\n",
        "nltk.download('stopwords')\n",
        "\n",
        "\n",
        "response=urllib.request.urlopen('http://python.org/') #웹에 정보를 요청한 후, 돌려받은 응답을 저장하여 ‘응답 객체(HTTPResponse)’를 반환한다.\n",
        "html=response.read()\n",
        "clean=BeautifulSoup(html,'html.parser').get_text() #html 코드 정제 진행\n",
        "\n",
        "tokens=[]\n",
        "for tok in clean.split():\n",
        "  tokens.append(tok) #하나의 리스트로\n",
        "\n",
        "stop=set(stopwords.words('english')) #불용어 \n",
        "\n",
        "clean_tokens=[]\n",
        "for tok in tokens:\n",
        "  if len(tok.lower())>1 and (tok.lower() not in stop): #길이가 1 이상 인 것 !! stop word가 아닌 것 !\n",
        "    clean_tokens.append(tok)\n",
        "\n",
        "Freq_dist_nltk=nltk.FreqDist(clean_tokens) #FreqDist 클래스는 문서에 사용된 단어(토큰)의 사용빈도 정보를 담는 클래스이다.\n",
        "Freq_dist_nltk.plot(30, cumulative=False)"
      ],
      "execution_count": 41,
      "outputs": [
        {
          "output_type": "stream",
          "text": [
            "[nltk_data] Downloading package stopwords to /root/nltk_data...\n",
            "[nltk_data]   Package stopwords is already up-to-date!\n"
          ],
          "name": "stdout"
        },
        {
          "output_type": "display_data",
          "data": {
            "image/png": "[encoded data removed]",
            "text/plain": [
              "<Figure size 432x288 with 1 Axes>"
            ]
          },
          "metadata": {
            "tags": [],
            "needs_background": "light"
          }
        }
      ]
    },
    {
      "cell_type": "markdown",
      "metadata": {
        "id": "6RNAKmq9yc_t"
      },
      "source": [
        "## 명사만 추출해보기"
      ]
    },
    {
      "cell_type": "code",
      "metadata": {
        "id": "vB5eNascyb0M",
        "outputId": "0328af9a-09b8-4ec3-a725-981b661c3fc3",
        "colab": {
          "base_uri": "https://localhost:8080/",
          "height": 448
        }
      },
      "source": [
        "import nltk\n",
        "import urllib\n",
        "import re\n",
        "from bs4 import BeautifulSoup\n",
        "from nltk.corpus import stopwords  \n",
        "import matplotlib\n",
        "import matplotlib.pyplot as plt\n",
        "import random\n",
        "\n",
        "nltk.download('stopwords')\n",
        "nltk.download('averaged_perceptron_tagger')\n",
        "\n",
        "\n",
        "response=urllib.request.urlopen('http://python.org/') \n",
        "html=response.read()\n",
        "clean=BeautifulSoup(html,'html.parser').get_text()   \n",
        "\n",
        "tokens=[tok for tok in clean.split()]\n",
        "\n",
        "stop=set(stopwords.words('english')) \n",
        "\n",
        "clean_tokens= [tok for tok in tokens if len(tok.lower())>1 and (tok.lower() not in stop)] \n",
        "\n",
        "tagged=nltk.pos_tag(clean_tokens)\n",
        "\n",
        "allnoun=[]\n",
        "for word,pos in tagged:\n",
        "  if pos in ['NN','NNP']:\n",
        "    allnoun.append(word)\n",
        "    \n",
        "Freq_dist_nltk = nltk.FreqDist(allnoun) \n",
        "Freq_dist_nltk.plot(30, cumulative=False)\n"
      ],
      "execution_count": 42,
      "outputs": [
        {
          "output_type": "stream",
          "text": [
            "[nltk_data] Downloading package stopwords to /root/nltk_data...\n",
            "[nltk_data]   Package stopwords is already up-to-date!\n",
            "[nltk_data] Downloading package averaged_perceptron_tagger to\n",
            "[nltk_data]     /root/nltk_data...\n",
            "[nltk_data]   Package averaged_perceptron_tagger is already up-to-\n",
            "[nltk_data]       date!\n"
          ],
          "name": "stdout"
        },
        {
          "output_type": "display_data",
          "data": {
            "image/png": "[encoded data removed]",
            "text/plain": [
              "<Figure size 432x288 with 1 Axes>"
            ]
          },
          "metadata": {
            "tags": [],
            "needs_background": "light"
          }
        }
      ]
    },
    {
      "cell_type": "markdown",
      "metadata": {
        "id": "Ai5LijaLvDG_"
      },
      "source": [
        "## 한국어 형태소분석"
      ]
    },
    {
      "cell_type": "code",
      "metadata": {
        "id": "fUmgKgMQvC3e",
        "outputId": "df8fb349-3f1e-4f5e-b6df-ef68395b189f",
        "colab": {
          "base_uri": "https://localhost:8080/",
          "height": 326
        }
      },
      "source": [
        "# konlpy 패키지 다운로드\n",
        "# Error 발생 시 다시 실행\n",
        "!pip install konlpy"
      ],
      "execution_count": 1,
      "outputs": [
        {
          "output_type": "stream",
          "text": [
            "Requirement already satisfied: konlpy in /usr/local/lib/python3.6/dist-packages (0.5.2)\n",
            "Requirement already satisfied: lxml>=4.1.0 in /usr/local/lib/python3.6/dist-packages (from konlpy) (4.2.6)\n",
            "Requirement already satisfied: numpy>=1.6 in /usr/local/lib/python3.6/dist-packages (from konlpy) (1.18.5)\n",
            "Requirement already satisfied: colorama in /usr/local/lib/python3.6/dist-packages (from konlpy) (0.4.4)\n",
            "Requirement already satisfied: beautifulsoup4==4.6.0 in /usr/local/lib/python3.6/dist-packages (from konlpy) (4.6.0)\n",
            "Requirement already satisfied: tweepy>=3.7.0 in /usr/local/lib/python3.6/dist-packages (from konlpy) (3.9.0)\n",
            "Requirement already satisfied: JPype1>=0.7.0 in /usr/local/lib/python3.6/dist-packages (from konlpy) (1.0.2)\n",
            "Requirement already satisfied: requests-oauthlib>=0.7.0 in /usr/local/lib/python3.6/dist-packages (from tweepy>=3.7.0->konlpy) (1.3.0)\n",
            "Requirement already satisfied: requests[socks]>=2.11.1 in /usr/local/lib/python3.6/dist-packages (from tweepy>=3.7.0->konlpy) (2.23.0)\n",
            "Requirement already satisfied: six>=1.10.0 in /usr/local/lib/python3.6/dist-packages (from tweepy>=3.7.0->konlpy) (1.15.0)\n",
            "Requirement already satisfied: typing-extensions; python_version < \"3.8\" in /usr/local/lib/python3.6/dist-packages (from JPype1>=0.7.0->konlpy) (3.7.4.3)\n",
            "Requirement already satisfied: oauthlib>=3.0.0 in /usr/local/lib/python3.6/dist-packages (from requests-oauthlib>=0.7.0->tweepy>=3.7.0->konlpy) (3.1.0)\n",
            "Requirement already satisfied: idna<3,>=2.5 in /usr/local/lib/python3.6/dist-packages (from requests[socks]>=2.11.1->tweepy>=3.7.0->konlpy) (2.10)\n",
            "Requirement already satisfied: chardet<4,>=3.0.2 in /usr/local/lib/python3.6/dist-packages (from requests[socks]>=2.11.1->tweepy>=3.7.0->konlpy) (3.0.4)\n",
            "Requirement already satisfied: urllib3!=1.25.0,!=1.25.1,<1.26,>=1.21.1 in /usr/local/lib/python3.6/dist-packages (from requests[socks]>=2.11.1->tweepy>=3.7.0->konlpy) (1.24.3)\n",
            "Requirement already satisfied: certifi>=2017.4.17 in /usr/local/lib/python3.6/dist-packages (from requests[socks]>=2.11.1->tweepy>=3.7.0->konlpy) (2020.6.20)\n",
            "Requirement already satisfied: PySocks!=1.5.7,>=1.5.6; extra == \"socks\" in /usr/local/lib/python3.6/dist-packages (from requests[socks]>=2.11.1->tweepy>=3.7.0->konlpy) (1.7.1)\n"
          ],
          "name": "stdout"
        }
      ]
    },
    {
      "cell_type": "code",
      "metadata": {
        "id": "NskKEBhfvLA2",
        "outputId": "8ad69fc1-c947-43ae-a5a1-479c1c6e2ef1",
        "colab": {
          "base_uri": "https://localhost:8080/",
          "height": 68
        }
      },
      "source": [
        "# konlpy 관련 패키지 import\n",
        "from konlpy.tag import Okt\n",
        "from konlpy.tag import Kkma\n",
        "from konlpy.tag import Hannanum\n",
        "from konlpy.tag import Komoran\n",
        "from konlpy.tag import Twitter\n",
        "\n",
        "kkma = Kkma()\n",
        "okt = Okt()\n",
        "komoran = Komoran()\n",
        "hannanum = Hannanum()\n",
        "twitter = Twitter()\n",
        "\n",
        "\n",
        "# konlpy 중 Kkma는 문장 분리가 가능 (다른 라이브러리는 되지 않음)\n",
        "print (\"kkma 문장 분리 : \", kkma.sentences('네 안녕하세요 반갑습니다.'))"
      ],
      "execution_count": 2,
      "outputs": [
        {
          "output_type": "stream",
          "text": [
            "/usr/local/lib/python3.6/dist-packages/konlpy/tag/_okt.py:16: UserWarning: \"Twitter\" has changed to \"Okt\" since KoNLPy v0.4.5.\n",
            "  warn('\"Twitter\" has changed to \"Okt\" since KoNLPy v0.4.5.')\n"
          ],
          "name": "stderr"
        },
        {
          "output_type": "stream",
          "text": [
            "kkma 문장 분리 :  ['네 안녕하세요', '반갑습니다.']\n"
          ],
          "name": "stdout"
        }
      ]
    },
    {
      "cell_type": "code",
      "metadata": {
        "id": "ELnqvwEOvTnG",
        "outputId": "10846f37-a799-40e7-8bbf-26a45c9f616f",
        "colab": {
          "base_uri": "https://localhost:8080/",
          "height": 102
        }
      },
      "source": [
        "# konlpy 의 라이브러리 형태소 분석 비교\n",
        "print(\"okt 형태소 분석 :\", okt.morphs(u\"집에 가면 감자 좀 쪄줄래?\"))\n",
        "print(\"kkma 형태소 분석 : \", kkma.morphs(u\"집에 가면 감자 좀 쪄줄래?\"))\n",
        "print(\"hannanum 형태소 분석 : \", hannanum.morphs(u\"집에 가면 감자 좀 쪄줄래?\"))\n",
        "print(\"komoran 형태소 분석 : \", komoran.morphs(u\"집에 가면 감자 좀 쪄줄래?\"))\n",
        "print(\"twitter 형태소 분석 : \", twitter.morphs(u\"집에 가면 감자 좀 쪄줄래?\"))"
      ],
      "execution_count": 3,
      "outputs": [
        {
          "output_type": "stream",
          "text": [
            "okt 형태소 분석 : ['집', '에', '가면', '감자', '좀', '쪄줄래', '?']\n",
            "kkma 형태소 분석 :  ['집', '에', '가', '면', '감자', '좀', '찌', '어', '주', 'ㄹ래', '?']\n",
            "hannanum 형태소 분석 :  ['집', '에', '가', '면', '감', '자', '좀', '찌', '어', '줄', '래', '?']\n",
            "komoran 형태소 분석 :  ['집', '에', '가', '면', '감자', '좀', '찌', '어', '주', 'ㄹ래', '?']\n",
            "twitter 형태소 분석 :  ['집', '에', '가면', '감자', '좀', '쪄줄래', '?']\n"
          ],
          "name": "stdout"
        }
      ]
    },
    {
      "cell_type": "code",
      "metadata": {
        "id": "_7cp8u2lwpDx",
        "outputId": "c1615715-49b2-432a-a8a3-fa1b72ff31d4",
        "colab": {
          "base_uri": "https://localhost:8080/",
          "height": 122
        }
      },
      "source": [
        "# konlpy 의 라이브러리 품사태깅 비교\n",
        "print(\"okt 품사태깅 :\", okt.pos(u\"집에 가면 감자 좀 쪄줄래?\"))\n",
        "print(\"kkma 품사태깅 : \", kkma.pos(u\"집에 가면 감자 좀 쪄줄래?\"))\n",
        "print(\"hannanum 품사태깅 : \", hannanum.pos(u\"집에 가면 감자 좀 쪄줄래?\"))\n",
        "print(\"komoran 품사태깅 : \", komoran.pos(u\"집에 가면 감자 좀 쪄줄래?\"))\n",
        "print(\"twitter 품사태깅 : \", twitter.pos(u\"집에 가면 감자 좀 쪄줄래?\"))\n"
      ],
      "execution_count": 4,
      "outputs": [
        {
          "output_type": "stream",
          "text": [
            "okt 품사태깅 : [('집', 'Noun'), ('에', 'Josa'), ('가면', 'Noun'), ('감자', 'Noun'), ('좀', 'Noun'), ('쪄줄래', 'Verb'), ('?', 'Punctuation')]\n",
            "kkma 품사태깅 :  [('집', 'NNG'), ('에', 'JKM'), ('가', 'VV'), ('면', 'ECE'), ('감자', 'NNG'), ('좀', 'MAG'), ('찌', 'VV'), ('어', 'ECS'), ('주', 'VXV'), ('ㄹ래', 'EFQ'), ('?', 'SF')]\n",
            "hannanum 품사태깅 :  [('집', 'N'), ('에', 'J'), ('가', 'P'), ('면', 'E'), ('감', 'P'), ('자', 'E'), ('좀', 'M'), ('찌', 'P'), ('어', 'E'), ('줄', 'P'), ('래', 'E'), ('?', 'S')]\n",
            "komoran 품사태깅 :  [('집', 'NNG'), ('에', 'JKB'), ('가', 'VV'), ('면', 'EC'), ('감자', 'NNP'), ('좀', 'MAG'), ('찌', 'VV'), ('어', 'EC'), ('주', 'VX'), ('ㄹ래', 'EF'), ('?', 'SF')]\n",
            "twitter 품사태깅 :  [('집', 'Noun'), ('에', 'Josa'), ('가면', 'Noun'), ('감자', 'Noun'), ('좀', 'Noun'), ('쪄줄래', 'Verb'), ('?', 'Punctuation')]\n"
          ],
          "name": "stdout"
        }
      ]
    },
    {
      "cell_type": "code",
      "metadata": {
        "id": "Gw3rpNtoCLvz",
        "outputId": "d71ac508-9aa5-44e4-af56-3abf62b4c08e",
        "colab": {
          "base_uri": "https://localhost:8080/",
          "height": 119
        }
      },
      "source": [
        "import nltk\n",
        "import ssl\n",
        "nltk.download('maxent_ne_chunker')\n",
        "nltk.download('words')\n"
      ],
      "execution_count": 25,
      "outputs": [
        {
          "output_type": "stream",
          "text": [
            "[nltk_data] Downloading package maxent_ne_chunker to\n",
            "[nltk_data]     /root/nltk_data...\n",
            "[nltk_data]   Unzipping chunkers/maxent_ne_chunker.zip.\n",
            "[nltk_data] Downloading package words to /root/nltk_data...\n",
            "[nltk_data]   Unzipping corpora/words.zip.\n"
          ],
          "name": "stdout"
        },
        {
          "output_type": "execute_result",
          "data": {
            "text/plain": [
              "True"
            ]
          },
          "metadata": {
            "tags": []
          },
          "execution_count": 25
        }
      ]
    }
  ]
}